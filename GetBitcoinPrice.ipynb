{
 "cells": [
  {
   "cell_type": "markdown",
   "id": "d2c7798c",
   "metadata": {},
   "source": [
    "# Get Bitcoin (BTC) price in dollars (USD)"
   ]
  },
  {
   "cell_type": "markdown",
   "id": "2db9e166",
   "metadata": {},
   "source": [
    "Binance API is the source of the data. Do NOT run this script more than once for every 5 minutes period."
   ]
  },
  {
   "cell_type": "markdown",
   "id": "83ab681e",
   "metadata": {},
   "source": [
    "## Import packages"
   ]
  },
  {
   "cell_type": "code",
   "execution_count": 1,
   "id": "272461f1",
   "metadata": {},
   "outputs": [],
   "source": [
    "import http.client\n",
    "import json"
   ]
  },
  {
   "cell_type": "markdown",
   "id": "2a182e78",
   "metadata": {},
   "source": [
    "## Get price from API"
   ]
  },
  {
   "cell_type": "code",
   "execution_count": 2,
   "id": "d55c76f0",
   "metadata": {},
   "outputs": [],
   "source": [
    "conn = http.client.HTTPSConnection(\"api.binance.com\")\n",
    "payload = ''\n",
    "headers = {}\n",
    "conn.request(\"GET\", \"/api/v3/avgPrice?symbol=BTCUSDT\", payload, headers)\n",
    "res = conn.getresponse()\n",
    "data = res.read()"
   ]
  },
  {
   "cell_type": "markdown",
   "id": "b3d53b64",
   "metadata": {},
   "source": [
    "## Parse received data"
   ]
  },
  {
   "cell_type": "code",
   "execution_count": 3,
   "id": "f3fcbbe9",
   "metadata": {},
   "outputs": [
    {
     "name": "stdout",
     "output_type": "stream",
     "text": [
      "{\"mins\":5,\"price\":\"27281.59749576\"}\n"
     ]
    }
   ],
   "source": [
    "print(data.decode(\"utf-8\"))"
   ]
  },
  {
   "cell_type": "code",
   "execution_count": 4,
   "id": "62268639",
   "metadata": {},
   "outputs": [],
   "source": [
    "deserialized_object = json.loads(data)"
   ]
  },
  {
   "cell_type": "code",
   "execution_count": 5,
   "id": "a8d3c339",
   "metadata": {},
   "outputs": [],
   "source": [
    "price = deserialized_object[\"price\"]"
   ]
  },
  {
   "cell_type": "code",
   "execution_count": 6,
   "id": "390bf3c4",
   "metadata": {},
   "outputs": [
    {
     "name": "stdout",
     "output_type": "stream",
     "text": [
      "27281.59749576\n"
     ]
    }
   ],
   "source": [
    "print(price)"
   ]
  },
  {
   "cell_type": "code",
   "execution_count": null,
   "id": "c5450eb1",
   "metadata": {},
   "outputs": [],
   "source": []
  }
 ],
 "metadata": {
  "kernelspec": {
   "display_name": "Python 3 (ipykernel)",
   "language": "python",
   "name": "python3"
  },
  "language_info": {
   "codemirror_mode": {
    "name": "ipython",
    "version": 3
   },
   "file_extension": ".py",
   "mimetype": "text/x-python",
   "name": "python",
   "nbconvert_exporter": "python",
   "pygments_lexer": "ipython3",
   "version": "3.9.6"
  }
 },
 "nbformat": 4,
 "nbformat_minor": 5
}
