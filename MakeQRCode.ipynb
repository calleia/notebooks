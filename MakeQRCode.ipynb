{
 "cells": [
  {
   "cell_type": "code",
   "execution_count": 1,
   "id": "71ef5dd8",
   "metadata": {},
   "outputs": [],
   "source": [
    "# Hello!\n",
    "\n",
    "# import qrcode\n",
    "# img = qrcode.make('Some data here')\n",
    "# type(img)  # qrcode.image.pil.PilImage\n",
    "# img.save(\"some_file.png\")"
   ]
  },
  {
   "cell_type": "code",
   "execution_count": 2,
   "id": "8b68e933",
   "metadata": {},
   "outputs": [],
   "source": [
    "import qrcode\n",
    "qr = qrcode.QRCode(\n",
    "    version=1,\n",
    "    error_correction=qrcode.constants.ERROR_CORRECT_L,\n",
    "    box_size=10,\n",
    "    border=4,\n",
    ")\n",
    "qr.add_data('https://calleia.dev')\n",
    "qr.make(fit=True)\n",
    "\n",
    "img = qr.make_image(fill_color=\"black\", back_color=\"white\")"
   ]
  },
  {
   "cell_type": "code",
   "execution_count": 3,
   "id": "a563295f",
   "metadata": {},
   "outputs": [
    {
     "data": {
      "image/png": "[encoded data removed]",
      "text/plain": [
       "<qrcode.image.pil.PilImage at 0x105067c70>"
      ]
     },
     "execution_count": 3,
     "metadata": {},
     "output_type": "execute_result"
    }
   ],
   "source": [
    "img"
   ]
  },
  {
   "cell_type": "code",
   "execution_count": 4,
   "id": "9a690d1f",
   "metadata": {},
   "outputs": [],
   "source": [
    "img = qr.make_image(back_color=(255, 0, 0), fill_color=(255, 255, 255))"
   ]
  },
  {
   "cell_type": "code",
   "execution_count": 5,
   "id": "34e075d4",
   "metadata": {},
   "outputs": [
    {
     "data": {
      "image/png": "[encoded data removed]",
      "text/plain": [
       "<qrcode.image.pil.PilImage at 0x1056b6490>"
      ]
     },
     "execution_count": 5,
     "metadata": {},
     "output_type": "execute_result"
    }
   ],
   "source": [
    "img"
   ]
  },
  {
   "cell_type": "code",
   "execution_count": 6,
   "id": "896ccafc",
   "metadata": {},
   "outputs": [],
   "source": [
    "qr2 = qrcode.QRCode(\n",
    "    version=1,\n",
    "    error_correction=qrcode.constants.ERROR_CORRECT_H,\n",
    "    box_size=10,\n",
    "    border=1,\n",
    ")\n",
    "qr2.add_data('https://calleia.dev')\n",
    "qr2.make(fit=True)\n",
    "\n",
    "img2 = qr2.make_image(fill_color=\"black\", back_color=\"white\")"
   ]
  },
  {
   "cell_type": "code",
   "execution_count": 7,
   "id": "b38fd88d",
   "metadata": {},
   "outputs": [
    {
     "data": {
      "image/png": "[encoded data removed]",
      "text/plain": [
       "<qrcode.image.pil.PilImage at 0x1056b6970>"
      ]
     },
     "execution_count": 7,
     "metadata": {},
     "output_type": "execute_result"
    }
   ],
   "source": [
    "img2"
   ]
  },
  {
   "cell_type": "code",
   "execution_count": 8,
   "id": "c0154450",
   "metadata": {},
   "outputs": [],
   "source": [
    "import qrcode\n",
    "from qrcode.image.styledpil import StyledPilImage\n",
    "from qrcode.image.styles.moduledrawers.pil import RoundedModuleDrawer\n",
    "# from qrcode.image.styles.colormasks import RadialGradiantColorMask\n",
    "\n",
    "# qr = qrcode.QRCode(error_correction=qrcode.constants.ERROR_CORRECT_L)\n",
    "# qr.add_data('Some data')\n",
    "\n",
    "img_1 = qr.make_image(image_factory=StyledPilImage, module_drawer=RoundedModuleDrawer())\n",
    "# img_2 = qr.make_image(image_factory=StyledPilImage, color_mask=RadialGradiantColorMask())\n",
    "# img_3 = qr.make_image(image_factory=StyledPilImage, embeded_image_path=\"/path/to/image.png\")"
   ]
  },
  {
   "cell_type": "code",
   "execution_count": 9,
   "id": "739c2a56",
   "metadata": {},
   "outputs": [],
   "source": [
    "# import qrcode\n",
    "# from qrcode.image.pure import PymagingImage\n",
    "# img = qrcode.make('Some data here', image_factory=PymagingImage)"
   ]
  },
  {
   "cell_type": "code",
   "execution_count": 10,
   "id": "442912b1",
   "metadata": {},
   "outputs": [
    {
     "data": {
      "image/png": "[encoded data removed]",
      "text/plain": [
       "<qrcode.image.styledpil.StyledPilImage at 0x1056dcf70>"
      ]
     },
     "execution_count": 10,
     "metadata": {},
     "output_type": "execute_result"
    }
   ],
   "source": [
    "import qrcode\n",
    "qr = qrcode.QRCode(\n",
    "    version=1,\n",
    "    error_correction=qrcode.constants.ERROR_CORRECT_L,\n",
    "    box_size=10,\n",
    "    border=4,\n",
    ")\n",
    "qr.add_data('https://calleia.dev')\n",
    "qr.make(fit=True)\n",
    "\n",
    "img = qr.make_image(fill_color=\"black\", back_color=\"white\", image_factory=StyledPilImage, module_drawer=qrcode.image.styles.moduledrawers.HorizontalBarsDrawer())\n",
    "\n",
    "# img.show()\n",
    "img"
   ]
  },
  {
   "cell_type": "code",
   "execution_count": null,
   "id": "a5e6cdf0",
   "metadata": {},
   "outputs": [],
   "source": []
  }
 ],
 "metadata": {
  "kernelspec": {
   "display_name": "Python 3 (ipykernel)",
   "language": "python",
   "name": "python3"
  },
  "language_info": {
   "codemirror_mode": {
    "name": "ipython",
    "version": 3
   },
   "file_extension": ".py",
   "mimetype": "text/x-python",
   "name": "python",
   "nbconvert_exporter": "python",
   "pygments_lexer": "ipython3",
   "version": "3.9.6"
  }
 },
 "nbformat": 4,
 "nbformat_minor": 5
}
