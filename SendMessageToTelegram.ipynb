{
 "cells": [
  {
   "cell_type": "markdown",
   "id": "5331261d",
   "metadata": {},
   "source": [
    "# Send message to user as a bot using Telegram"
   ]
  },
  {
   "cell_type": "markdown",
   "id": "d4ae6e4a",
   "metadata": {},
   "source": [
    "## Import packages"
   ]
  },
  {
   "cell_type": "code",
   "execution_count": null,
   "id": "03f70caa",
   "metadata": {},
   "outputs": [],
   "source": [
    "import http.client\n",
    "import json"
   ]
  },
  {
   "cell_type": "markdown",
   "id": "0e766b8a",
   "metadata": {},
   "source": [
    "## Settings (MUST FILL)"
   ]
  },
  {
   "cell_type": "code",
   "execution_count": null,
   "id": "884620e6",
   "metadata": {},
   "outputs": [],
   "source": [
    "chat_id = 123456789"
   ]
  },
  {
   "cell_type": "code",
   "execution_count": null,
   "id": "e2135714",
   "metadata": {},
   "outputs": [],
   "source": [
    "message_text = \"Hello, friend!\""
   ]
  },
  {
   "cell_type": "code",
   "execution_count": null,
   "id": "bac5e883",
   "metadata": {},
   "outputs": [],
   "source": [
    "api_token = \"123456789:0123456789ABCDEFGHIJKLMNOPQRSTUVXYZ\""
   ]
  },
  {
   "cell_type": "markdown",
   "id": "4fec7329",
   "metadata": {},
   "source": [
    "## Call Telegram bot API"
   ]
  },
  {
   "cell_type": "code",
   "execution_count": null,
   "id": "e66b17c5",
   "metadata": {},
   "outputs": [],
   "source": [
    "conn = http.client.HTTPSConnection(\"api.telegram.org\")\n",
    "url = \"/bot\" + api_token + \"/sendMessage\"\n",
    "payload = json.dumps({\n",
    "  \"chat_id\": chat_id,\n",
    "  \"text\": message_text\n",
    "})\n",
    "headers = {\n",
    "  'Content-Type': 'application/json'\n",
    "}\n",
    "conn.request(\"POST\", url, payload, headers)\n",
    "res = conn.getresponse()\n",
    "data = res.read()"
   ]
  },
  {
   "cell_type": "markdown",
   "id": "ef100b73",
   "metadata": {},
   "source": [
    "## Print response"
   ]
  },
  {
   "cell_type": "code",
   "execution_count": null,
   "id": "e0d0f877",
   "metadata": {},
   "outputs": [],
   "source": [
    "print(data.decode(\"utf-8\"))"
   ]
  }
 ],
 "metadata": {
  "kernelspec": {
   "display_name": "Python 3 (ipykernel)",
   "language": "python",
   "name": "python3"
  },
  "language_info": {
   "codemirror_mode": {
    "name": "ipython",
    "version": 3
   },
   "file_extension": ".py",
   "mimetype": "text/x-python",
   "name": "python",
   "nbconvert_exporter": "python",
   "pygments_lexer": "ipython3",
   "version": "3.9.6"
  }
 },
 "nbformat": 4,
 "nbformat_minor": 5
}
