{
 "cells": [
  {
   "cell_type": "code",
   "execution_count": 1,
   "id": "9c043899",
   "metadata": {},
   "outputs": [],
   "source": [
    "from PIL import Image\n",
    "import random\n",
    "\n",
    "# Set the size of the image\n",
    "width, height = 8, 8\n",
    "\n",
    "# Create a new image with the specified size\n",
    "img = Image.new('RGB', (width, height))\n",
    "\n",
    "# Get access to the pixels of the image\n",
    "pixels = img.load()\n",
    "\n",
    "# Loop over each pixel in the image\n",
    "for i in range(width):\n",
    "    for j in range(height):\n",
    "        # Generate a random color by creating a tuple with 3 random numbers (for R, G, B)\n",
    "        random_color = (random.randint(0, 255), random.randint(0, 255), random.randint(0, 255))\n",
    "\n",
    "        # Set the pixel's color to the randomly generated color\n",
    "        pixels[i, j] = random_color\n",
    "\n",
    "# Save the image as a .png file\n",
    "# img.save('random_colors.png')\n",
    "img.show()"
   ]
  },
  {
   "cell_type": "code",
   "execution_count": null,
   "id": "e528ffdd",
   "metadata": {},
   "outputs": [],
   "source": []
  }
 ],
 "metadata": {
  "kernelspec": {
   "display_name": "Python 3 (ipykernel)",
   "language": "python",
   "name": "python3"
  },
  "language_info": {
   "codemirror_mode": {
    "name": "ipython",
    "version": 3
   },
   "file_extension": ".py",
   "mimetype": "text/x-python",
   "name": "python",
   "nbconvert_exporter": "python",
   "pygments_lexer": "ipython3",
   "version": "3.9.6"
  }
 },
 "nbformat": 4,
 "nbformat_minor": 5
}
